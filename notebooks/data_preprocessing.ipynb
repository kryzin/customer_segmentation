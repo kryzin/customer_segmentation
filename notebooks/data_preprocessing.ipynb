{
 "cells": [
  {
   "cell_type": "markdown",
   "id": "75b250eb",
   "metadata": {},
   "source": [
    "# Initial Data Processing \n",
    "\n",
    "## Loading in the data"
   ]
  },
  {
   "cell_type": "code",
   "execution_count": 1,
   "id": "293cfd7f",
   "metadata": {},
   "outputs": [
    {
     "name": "stderr",
     "output_type": "stream",
     "text": [
      "c:\\Users\\karol\\GitHub\\customer_segmentation\\.venv\\Lib\\site-packages\\tqdm\\auto.py:21: TqdmWarning: IProgress not found. Please update jupyter and ipywidgets. See https://ipywidgets.readthedocs.io/en/stable/user_install.html\n",
      "  from .autonotebook import tqdm as notebook_tqdm\n"
     ]
    }
   ],
   "source": [
    "import kagglehub\n",
    "import pandas as pd\n",
    "import os\n",
    "import shutil\n",
    "from pathlib import Path\n",
    "import numpy as np"
   ]
  },
  {
   "cell_type": "code",
   "execution_count": 2,
   "id": "07dff354",
   "metadata": {},
   "outputs": [
    {
     "data": {
      "text/html": [
       "<div>\n",
       "<style scoped>\n",
       "    .dataframe tbody tr th:only-of-type {\n",
       "        vertical-align: middle;\n",
       "    }\n",
       "\n",
       "    .dataframe tbody tr th {\n",
       "        vertical-align: top;\n",
       "    }\n",
       "\n",
       "    .dataframe thead th {\n",
       "        text-align: right;\n",
       "    }\n",
       "</style>\n",
       "<table border=\"1\" class=\"dataframe\">\n",
       "  <thead>\n",
       "    <tr style=\"text-align: right;\">\n",
       "      <th></th>\n",
       "      <th>CustomerID</th>\n",
       "      <th>Gender</th>\n",
       "      <th>Age</th>\n",
       "      <th>Annual Income (k$)</th>\n",
       "      <th>Spending Score (1-100)</th>\n",
       "      <th>Age Group</th>\n",
       "      <th>Estimated Savings (k$)</th>\n",
       "      <th>Credit Score</th>\n",
       "      <th>Loyalty Years</th>\n",
       "      <th>Preferred Category</th>\n",
       "    </tr>\n",
       "  </thead>\n",
       "  <tbody>\n",
       "    <tr>\n",
       "      <th>0</th>\n",
       "      <td>1</td>\n",
       "      <td>Male</td>\n",
       "      <td>19</td>\n",
       "      <td>15</td>\n",
       "      <td>39</td>\n",
       "      <td>18-25</td>\n",
       "      <td>11.10</td>\n",
       "      <td>456</td>\n",
       "      <td>3</td>\n",
       "      <td>Budget</td>\n",
       "    </tr>\n",
       "    <tr>\n",
       "      <th>1</th>\n",
       "      <td>2</td>\n",
       "      <td>Male</td>\n",
       "      <td>21</td>\n",
       "      <td>15</td>\n",
       "      <td>81</td>\n",
       "      <td>18-25</td>\n",
       "      <td>6.90</td>\n",
       "      <td>300</td>\n",
       "      <td>6</td>\n",
       "      <td>Luxury</td>\n",
       "    </tr>\n",
       "    <tr>\n",
       "      <th>2</th>\n",
       "      <td>3</td>\n",
       "      <td>Female</td>\n",
       "      <td>20</td>\n",
       "      <td>16</td>\n",
       "      <td>6</td>\n",
       "      <td>18-25</td>\n",
       "      <td>15.36</td>\n",
       "      <td>594</td>\n",
       "      <td>2</td>\n",
       "      <td>Budget</td>\n",
       "    </tr>\n",
       "    <tr>\n",
       "      <th>3</th>\n",
       "      <td>4</td>\n",
       "      <td>Female</td>\n",
       "      <td>23</td>\n",
       "      <td>16</td>\n",
       "      <td>77</td>\n",
       "      <td>18-25</td>\n",
       "      <td>7.79</td>\n",
       "      <td>300</td>\n",
       "      <td>6</td>\n",
       "      <td>Luxury</td>\n",
       "    </tr>\n",
       "    <tr>\n",
       "      <th>4</th>\n",
       "      <td>5</td>\n",
       "      <td>Female</td>\n",
       "      <td>31</td>\n",
       "      <td>17</td>\n",
       "      <td>40</td>\n",
       "      <td>26-35</td>\n",
       "      <td>12.47</td>\n",
       "      <td>480</td>\n",
       "      <td>5</td>\n",
       "      <td>Budget</td>\n",
       "    </tr>\n",
       "  </tbody>\n",
       "</table>\n",
       "</div>"
      ],
      "text/plain": [
       "   CustomerID  Gender  Age  Annual Income (k$)  Spending Score (1-100)  \\\n",
       "0           1    Male   19                  15                      39   \n",
       "1           2    Male   21                  15                      81   \n",
       "2           3  Female   20                  16                       6   \n",
       "3           4  Female   23                  16                      77   \n",
       "4           5  Female   31                  17                      40   \n",
       "\n",
       "  Age Group  Estimated Savings (k$)  Credit Score  Loyalty Years  \\\n",
       "0     18-25                   11.10           456              3   \n",
       "1     18-25                    6.90           300              6   \n",
       "2     18-25                   15.36           594              2   \n",
       "3     18-25                    7.79           300              6   \n",
       "4     26-35                   12.47           480              5   \n",
       "\n",
       "  Preferred Category  \n",
       "0             Budget  \n",
       "1             Luxury  \n",
       "2             Budget  \n",
       "3             Luxury  \n",
       "4             Budget  "
      ]
     },
     "execution_count": 2,
     "metadata": {},
     "output_type": "execute_result"
    }
   ],
   "source": [
    "path = Path(\"../data/raw/Mall_Customers_Enhanced.csv\")\n",
    "df = pd.read_csv(path)\n",
    "df.head()"
   ]
  },
  {
   "cell_type": "code",
   "execution_count": 3,
   "id": "fa785afa",
   "metadata": {},
   "outputs": [
    {
     "name": "stdout",
     "output_type": "stream",
     "text": [
      "Shape of the data: (200, 10)\n",
      "<class 'pandas.core.frame.DataFrame'>\n",
      "RangeIndex: 200 entries, 0 to 199\n",
      "Data columns (total 10 columns):\n",
      " #   Column                  Non-Null Count  Dtype  \n",
      "---  ------                  --------------  -----  \n",
      " 0   CustomerID              200 non-null    int64  \n",
      " 1   Gender                  200 non-null    object \n",
      " 2   Age                     200 non-null    int64  \n",
      " 3   Annual Income (k$)      200 non-null    int64  \n",
      " 4   Spending Score (1-100)  200 non-null    int64  \n",
      " 5   Age Group               196 non-null    object \n",
      " 6   Estimated Savings (k$)  200 non-null    float64\n",
      " 7   Credit Score            200 non-null    int64  \n",
      " 8   Loyalty Years           200 non-null    int64  \n",
      " 9   Preferred Category      200 non-null    object \n",
      "dtypes: float64(1), int64(6), object(3)\n",
      "memory usage: 15.8+ KB\n",
      "Info:  None\n",
      "Missing values:\n",
      " CustomerID                0\n",
      "Gender                    0\n",
      "Age                       0\n",
      "Annual Income (k$)        0\n",
      "Spending Score (1-100)    0\n",
      "Age Group                 4\n",
      "Estimated Savings (k$)    0\n",
      "Credit Score              0\n",
      "Loyalty Years             0\n",
      "Preferred Category        0\n",
      "dtype: int64\n"
     ]
    }
   ],
   "source": [
    "print(\"Shape of the data:\", df.shape)\n",
    "\n",
    "print(\"Info: \", df.info())\n",
    "\n",
    "print(\"Missing values:\\n\", df.isnull().sum())"
   ]
  },
  {
   "cell_type": "markdown",
   "id": "b17db990",
   "metadata": {},
   "source": [
    "## Data Type Optimization"
   ]
  },
  {
   "cell_type": "code",
   "execution_count": 9,
   "id": "e36f522b",
   "metadata": {},
   "outputs": [
    {
     "name": "stdout",
     "output_type": "stream",
     "text": [
      "<class 'pandas.core.frame.DataFrame'>\n",
      "RangeIndex: 200 entries, 0 to 199\n",
      "Data columns (total 10 columns):\n",
      " #   Column                  Non-Null Count  Dtype   \n",
      "---  ------                  --------------  -----   \n",
      " 0   CustomerID              200 non-null    int32   \n",
      " 1   Gender                  200 non-null    category\n",
      " 2   Age                     200 non-null    int32   \n",
      " 3   Annual Income (k$)      200 non-null    int32   \n",
      " 4   Spending Score (1-100)  200 non-null    int32   \n",
      " 5   Age Group               200 non-null    category\n",
      " 6   Estimated Savings (k$)  200 non-null    float32 \n",
      " 7   Credit Score            200 non-null    int32   \n",
      " 8   Loyalty Years           200 non-null    int32   \n",
      " 9   Preferred Category      200 non-null    category\n",
      "dtypes: category(3), float32(1), int32(6)\n",
      "memory usage: 6.7 KB\n"
     ]
    }
   ],
   "source": [
    "for col in [\"Gender\", \"Age Group\", \"Preferred Category\"]:\n",
    "    df[col] = df[col].astype(\"category\")\n",
    "\n",
    "df[\"CustomerID\"] = df[\"CustomerID\"].astype(\"int32\")\n",
    "df[\"Age\"] = df[\"Age\"].astype(\"int32\")\n",
    "df[\"Annual Income (k$)\"] = df[\"Annual Income (k$)\"].astype(\"int32\")\n",
    "df[\"Spending Score (1-100)\"] = df[\"Spending Score (1-100)\"].astype(\"int32\")\n",
    "df[\"Credit Score\"] = df[\"Credit Score\"].astype(\"int32\")\n",
    "df[\"Loyalty Years\"] = df[\"Loyalty Years\"].astype(\"int32\")\n",
    "\n",
    "df[\"Estimated Savings (k$)\"] = df[\"Estimated Savings (k$)\"].astype(\"float32\")\n",
    "\n",
    "df.info()"
   ]
  },
  {
   "cell_type": "markdown",
   "id": "ea114763",
   "metadata": {},
   "source": [
    "## Missing values\n",
    "\n",
    "there are 4 missing values in \"Age Group\" so we will input the correct label based on Age bins."
   ]
  },
  {
   "cell_type": "code",
   "execution_count": 6,
   "id": "1cb32bea",
   "metadata": {},
   "outputs": [
    {
     "data": {
      "text/plain": [
       "array(['18-25', '26-35', '51-65', '65+', '36-50', nan], dtype=object)"
      ]
     },
     "execution_count": 6,
     "metadata": {},
     "output_type": "execute_result"
    }
   ],
   "source": [
    "df[\"Age Group\"].unique()"
   ]
  },
  {
   "cell_type": "code",
   "execution_count": 7,
   "id": "4ae987a8",
   "metadata": {},
   "outputs": [
    {
     "name": "stdout",
     "output_type": "stream",
     "text": [
      "0\n",
      "Age Group\n",
      "36-50    62\n",
      "26-35    60\n",
      "18-25    38\n",
      "51-65    28\n",
      "65+      12\n",
      "Name: count, dtype: int64\n"
     ]
    }
   ],
   "source": [
    "age_bins = [17, 25, 35, 50, 65, 120]\n",
    "age_labels = [\"18-25\", \"26-35\", \"36-50\", \"51-65\", \"65+\"]\n",
    "\n",
    "df.loc[df[\"Age Group\"].isna(), \"Age Group\"] = pd.cut(\n",
    "    df.loc[df[\"Age Group\"].isna(), \"Age\"],\n",
    "    bins=age_bins,\n",
    "    labels=age_labels,\n",
    "    right=True\n",
    ")\n",
    "df[\"Age Group\"] = df[\"Age Group\"].astype(\"category\")\n",
    "\n",
    "print(df[\"Age Group\"].isna().sum())\n",
    "print(df[\"Age Group\"].value_counts())"
   ]
  },
  {
   "cell_type": "code",
   "execution_count": 8,
   "id": "b8468e2a",
   "metadata": {},
   "outputs": [
    {
     "data": {
      "text/html": [
       "<div>\n",
       "<style scoped>\n",
       "    .dataframe tbody tr th:only-of-type {\n",
       "        vertical-align: middle;\n",
       "    }\n",
       "\n",
       "    .dataframe tbody tr th {\n",
       "        vertical-align: top;\n",
       "    }\n",
       "\n",
       "    .dataframe thead th {\n",
       "        text-align: right;\n",
       "    }\n",
       "</style>\n",
       "<table border=\"1\" class=\"dataframe\">\n",
       "  <thead>\n",
       "    <tr style=\"text-align: right;\">\n",
       "      <th></th>\n",
       "      <th>count</th>\n",
       "      <th>unique</th>\n",
       "      <th>top</th>\n",
       "      <th>freq</th>\n",
       "      <th>mean</th>\n",
       "      <th>std</th>\n",
       "      <th>min</th>\n",
       "      <th>25%</th>\n",
       "      <th>50%</th>\n",
       "      <th>75%</th>\n",
       "      <th>max</th>\n",
       "    </tr>\n",
       "  </thead>\n",
       "  <tbody>\n",
       "    <tr>\n",
       "      <th>CustomerID</th>\n",
       "      <td>200.0</td>\n",
       "      <td>NaN</td>\n",
       "      <td>NaN</td>\n",
       "      <td>NaN</td>\n",
       "      <td>100.5</td>\n",
       "      <td>57.879185</td>\n",
       "      <td>1.0</td>\n",
       "      <td>50.75</td>\n",
       "      <td>100.5</td>\n",
       "      <td>150.25</td>\n",
       "      <td>200.0</td>\n",
       "    </tr>\n",
       "    <tr>\n",
       "      <th>Gender</th>\n",
       "      <td>200</td>\n",
       "      <td>2</td>\n",
       "      <td>Female</td>\n",
       "      <td>112</td>\n",
       "      <td>NaN</td>\n",
       "      <td>NaN</td>\n",
       "      <td>NaN</td>\n",
       "      <td>NaN</td>\n",
       "      <td>NaN</td>\n",
       "      <td>NaN</td>\n",
       "      <td>NaN</td>\n",
       "    </tr>\n",
       "    <tr>\n",
       "      <th>Age</th>\n",
       "      <td>200.0</td>\n",
       "      <td>NaN</td>\n",
       "      <td>NaN</td>\n",
       "      <td>NaN</td>\n",
       "      <td>38.85</td>\n",
       "      <td>13.969007</td>\n",
       "      <td>18.0</td>\n",
       "      <td>28.75</td>\n",
       "      <td>36.0</td>\n",
       "      <td>49.0</td>\n",
       "      <td>70.0</td>\n",
       "    </tr>\n",
       "    <tr>\n",
       "      <th>Annual Income (k$)</th>\n",
       "      <td>200.0</td>\n",
       "      <td>NaN</td>\n",
       "      <td>NaN</td>\n",
       "      <td>NaN</td>\n",
       "      <td>60.56</td>\n",
       "      <td>26.264721</td>\n",
       "      <td>15.0</td>\n",
       "      <td>41.5</td>\n",
       "      <td>61.5</td>\n",
       "      <td>78.0</td>\n",
       "      <td>137.0</td>\n",
       "    </tr>\n",
       "    <tr>\n",
       "      <th>Spending Score (1-100)</th>\n",
       "      <td>200.0</td>\n",
       "      <td>NaN</td>\n",
       "      <td>NaN</td>\n",
       "      <td>NaN</td>\n",
       "      <td>50.2</td>\n",
       "      <td>25.823522</td>\n",
       "      <td>1.0</td>\n",
       "      <td>34.75</td>\n",
       "      <td>50.0</td>\n",
       "      <td>73.0</td>\n",
       "      <td>99.0</td>\n",
       "    </tr>\n",
       "    <tr>\n",
       "      <th>Age Group</th>\n",
       "      <td>200</td>\n",
       "      <td>5</td>\n",
       "      <td>36-50</td>\n",
       "      <td>62</td>\n",
       "      <td>NaN</td>\n",
       "      <td>NaN</td>\n",
       "      <td>NaN</td>\n",
       "      <td>NaN</td>\n",
       "      <td>NaN</td>\n",
       "      <td>NaN</td>\n",
       "      <td>NaN</td>\n",
       "    </tr>\n",
       "    <tr>\n",
       "      <th>Estimated Savings (k$)</th>\n",
       "      <td>200.0</td>\n",
       "      <td>NaN</td>\n",
       "      <td>NaN</td>\n",
       "      <td>NaN</td>\n",
       "      <td>40.24795</td>\n",
       "      <td>21.333448</td>\n",
       "      <td>6.46</td>\n",
       "      <td>28.8</td>\n",
       "      <td>36.41</td>\n",
       "      <td>44.9675</td>\n",
       "      <td>120.56</td>\n",
       "    </tr>\n",
       "    <tr>\n",
       "      <th>Credit Score</th>\n",
       "      <td>200.0</td>\n",
       "      <td>NaN</td>\n",
       "      <td>NaN</td>\n",
       "      <td>NaN</td>\n",
       "      <td>743.68</td>\n",
       "      <td>155.176727</td>\n",
       "      <td>300.0</td>\n",
       "      <td>697.0</td>\n",
       "      <td>833.0</td>\n",
       "      <td>850.0</td>\n",
       "      <td>850.0</td>\n",
       "    </tr>\n",
       "    <tr>\n",
       "      <th>Loyalty Years</th>\n",
       "      <td>200.0</td>\n",
       "      <td>NaN</td>\n",
       "      <td>NaN</td>\n",
       "      <td>NaN</td>\n",
       "      <td>5.93</td>\n",
       "      <td>1.570808</td>\n",
       "      <td>2.0</td>\n",
       "      <td>5.0</td>\n",
       "      <td>6.0</td>\n",
       "      <td>7.0</td>\n",
       "      <td>9.0</td>\n",
       "    </tr>\n",
       "    <tr>\n",
       "      <th>Preferred Category</th>\n",
       "      <td>200</td>\n",
       "      <td>4</td>\n",
       "      <td>Electronics</td>\n",
       "      <td>78</td>\n",
       "      <td>NaN</td>\n",
       "      <td>NaN</td>\n",
       "      <td>NaN</td>\n",
       "      <td>NaN</td>\n",
       "      <td>NaN</td>\n",
       "      <td>NaN</td>\n",
       "      <td>NaN</td>\n",
       "    </tr>\n",
       "  </tbody>\n",
       "</table>\n",
       "</div>"
      ],
      "text/plain": [
       "                        count unique          top freq      mean         std  \\\n",
       "CustomerID              200.0    NaN          NaN  NaN     100.5   57.879185   \n",
       "Gender                    200      2       Female  112       NaN         NaN   \n",
       "Age                     200.0    NaN          NaN  NaN     38.85   13.969007   \n",
       "Annual Income (k$)      200.0    NaN          NaN  NaN     60.56   26.264721   \n",
       "Spending Score (1-100)  200.0    NaN          NaN  NaN      50.2   25.823522   \n",
       "Age Group                 200      5        36-50   62       NaN         NaN   \n",
       "Estimated Savings (k$)  200.0    NaN          NaN  NaN  40.24795   21.333448   \n",
       "Credit Score            200.0    NaN          NaN  NaN    743.68  155.176727   \n",
       "Loyalty Years           200.0    NaN          NaN  NaN      5.93    1.570808   \n",
       "Preferred Category        200      4  Electronics   78       NaN         NaN   \n",
       "\n",
       "                          min    25%    50%      75%     max  \n",
       "CustomerID                1.0  50.75  100.5   150.25   200.0  \n",
       "Gender                    NaN    NaN    NaN      NaN     NaN  \n",
       "Age                      18.0  28.75   36.0     49.0    70.0  \n",
       "Annual Income (k$)       15.0   41.5   61.5     78.0   137.0  \n",
       "Spending Score (1-100)    1.0  34.75   50.0     73.0    99.0  \n",
       "Age Group                 NaN    NaN    NaN      NaN     NaN  \n",
       "Estimated Savings (k$)   6.46   28.8  36.41  44.9675  120.56  \n",
       "Credit Score            300.0  697.0  833.0    850.0   850.0  \n",
       "Loyalty Years             2.0    5.0    6.0      7.0     9.0  \n",
       "Preferred Category        NaN    NaN    NaN      NaN     NaN  "
      ]
     },
     "execution_count": 8,
     "metadata": {},
     "output_type": "execute_result"
    }
   ],
   "source": [
    "df.describe(include=\"all\").T"
   ]
  },
  {
   "cell_type": "code",
   "execution_count": null,
   "id": "0af4591f",
   "metadata": {},
   "outputs": [
    {
     "name": "stdout",
     "output_type": "stream",
     "text": [
      "0\n"
     ]
    }
   ],
   "source": [
    "print(df.duplicated().sum())"
   ]
  },
  {
   "cell_type": "markdown",
   "id": "4bdaabca",
   "metadata": {},
   "source": [
    "No duplicates, no need to drop any columns. Lets move on to outliers.\n",
    "\n",
    "## Outliers"
   ]
  },
  {
   "cell_type": "code",
   "execution_count": 13,
   "id": "99c23220",
   "metadata": {},
   "outputs": [
    {
     "name": "stdout",
     "output_type": "stream",
     "text": [
      "CustomerID: 0 outliers\n",
      "Age: 0 outliers\n",
      "Annual Income (k$): 2 outliers\n",
      "Spending Score (1-100): 0 outliers\n",
      "Estimated Savings (k$): 26 outliers\n",
      "Credit Score: 20 outliers\n",
      "Loyalty Years: 0 outliers\n"
     ]
    }
   ],
   "source": [
    "numeric_cols = df.select_dtypes(include=[\"int32\", \"int64\", \"float32\", \"float64\"]).columns\n",
    "\n",
    "for col in numeric_cols:\n",
    "    Q1 = df[col].quantile(0.25)\n",
    "    Q3 = df[col].quantile(0.75)\n",
    "    IQR = Q3 - Q1\n",
    "    lower = Q1 - 1.5 * IQR\n",
    "    upper = Q3 + 1.5 * IQR\n",
    "    outliers = df[(df[col] < lower) | (df[col] > upper)][col]\n",
    "    print(f\"{col}: {len(outliers)} outliers\")"
   ]
  },
  {
   "cell_type": "code",
   "execution_count": 14,
   "id": "1a39bdb0",
   "metadata": {},
   "outputs": [
    {
     "data": {
      "image/png": "[encoded data removed]",
      "text/plain": [
       "<Figure size 1200x600 with 1 Axes>"
      ]
     },
     "metadata": {},
     "output_type": "display_data"
    }
   ],
   "source": [
    "import matplotlib.pyplot as plt\n",
    "import seaborn as sns\n",
    "\n",
    "plt.figure(figsize=(12, 6))\n",
    "sns.boxplot(data=df[numeric_cols])\n",
    "plt.xticks(rotation=45)\n",
    "plt.title(\"Boxplots of numeric features\")\n",
    "plt.show()"
   ]
  },
  {
   "cell_type": "markdown",
   "id": "05203204",
   "metadata": {},
   "source": [
    "Some outliers are very high earners and so some have much higher savings. Credit score outlier indicate unusually low scores compared to main cluster. We will be keeping these, since clustering customers could showcase different groups like \"High Saver\" or \"VIP Earner\"."
   ]
  },
  {
   "cell_type": "code",
   "execution_count": 15,
   "id": "1b63a68b",
   "metadata": {},
   "outputs": [],
   "source": [
    "df.to_csv(\"../data/processed/mall_customers_cleaned.csv\", index=False)"
   ]
  }
 ],
 "metadata": {
  "kernelspec": {
   "display_name": ".venv",
   "language": "python",
   "name": "python3"
  },
  "language_info": {
   "codemirror_mode": {
    "name": "ipython",
    "version": 3
   },
   "file_extension": ".py",
   "mimetype": "text/x-python",
   "name": "python",
   "nbconvert_exporter": "python",
   "pygments_lexer": "ipython3",
   "version": "3.12.2"
  }
 },
 "nbformat": 4,
 "nbformat_minor": 5
}
